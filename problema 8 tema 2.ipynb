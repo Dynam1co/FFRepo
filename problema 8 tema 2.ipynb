{
 "metadata": {
  "language_info": {
   "codemirror_mode": {
    "name": "ipython",
    "version": 3
   },
   "file_extension": ".py",
   "mimetype": "text/x-python",
   "name": "python",
   "nbconvert_exporter": "python",
   "pygments_lexer": "ipython3",
   "version": "3.7.8-final"
  },
  "orig_nbformat": 2,
  "kernelspec": {
   "name": "python3",
   "display_name": "Python 3"
  }
 },
 "nbformat": 4,
 "nbformat_minor": 2,
 "cells": [
  {
   "source": [
    "# Tema 2"
   ],
   "cell_type": "markdown",
   "metadata": {}
  },
  {
   "source": [
    "## Problema 8"
   ],
   "cell_type": "markdown",
   "metadata": {}
  },
  {
   "source": [
    "<img src=\"https://tva1.sinaimg.cn/large/006y8mN6gy1g8fa42lppeg30jy05raiz.gif\" style=\"float:right;width:40%\">Un proyectil de 7 oz choca con (y queda unido a) un bloque de 53 oz que está suspendido de una rueda de 1.64 ft de longitud (radio). ¿Cuál es la velocidad del proyectil para que el conjunto bloque-bala se desvíe 30º? Respuesta: 9.74 m/s"
   ],
   "cell_type": "markdown",
   "metadata": {}
  },
  {
   "source": [
    "Vamos a resolverlo aplicando la conservación del momento lineal entre los instantes de tiempo $t_1$ y $t_2$:\n",
    "$$\n",
    "p(t_1) = p(t_2)\n",
    "$$\n",
    "y más tarde, la conservación de la energía entre $t_2$ y $t_3$:\n",
    "\n",
    "$$\n",
    "E(t_2) = E(t_3)\n",
    "$$"
   ],
   "cell_type": "markdown",
   "metadata": {}
  },
  {
   "source": [
    "Pero primero vamos a aclarar qué acontece en cada uno de estos momentos:\n",
    "\n",
    "* $t_1$ es el instante en que la bala (de masa $m_{\\mathrm{bala}}$) es lazanda (con velocidad $v_{\\mathrm{bala}}$) contra el bloque en reposo (es decir, $v_\\mathrm{bloque}$) y de masa $m_{\\mathrm{bloque}}$.\n",
    "* $t_2$ es el instante en que la bala choca contra el bloque y forman un único cuerpo (choque inelástico) de masa $m = m_{\\mathrm{bala}}+m_{\\mathrm{bloque}}$. Este conjunto adquiere una velocidad $\\text{velocidad conjunto}\\, t_2 \\neq 0$.\n",
    "* $t_3$ es el instante en el que el aglomerado llega al punto más alto (con una altura $h$, a determinar) y se para momentáneamente $\\text{velocidad conjunto}\\, t_3 = 0$ antes de iniciar su descenso por la acción de la gravedad."
   ],
   "cell_type": "markdown",
   "metadata": {}
  },
  {
   "source": [
    "Volviendo a la conservación de momento:\n",
    "$$\n",
    "p(t_1) = m_{\\mathrm{bala}}\\cdot v_{\\mathrm{bala}}\n",
    "$$\n",
    "$$\n",
    "p(t_2) = (m_{\\mathrm{bala}}+m_{\\mathrm{bloque}})\\cdot v_\\mathrm{conjunto}\n",
    "$$"
   ],
   "cell_type": "markdown",
   "metadata": {}
  },
  {
   "source": [
    "Igualando, tenemos:\n",
    "$$\n",
    " m_{\\mathrm{bala}}\\cdot v_{\\mathrm{bala}} = (m_{\\mathrm{bala}}+m_{\\mathrm{bloque}})\\cdot v_\\mathrm{conjunto}\n",
    "$$"
   ],
   "cell_type": "markdown",
   "metadata": {}
  },
  {
   "source": [
    "Y ahora vamos a expresar todo esto en Python/Sympy, pero primiero tenemos que definir la cantidad *onza*. Como se trata de una unidad nueva, la definimos gracias a la funcionalidad `Quantity` de Sympy.\n",
    "Primero cargamos esta funcionalidad:"
   ],
   "cell_type": "markdown",
   "metadata": {}
  },
  {
   "cell_type": "code",
   "execution_count": 1,
   "metadata": {},
   "outputs": [],
   "source": [
    "from sympy.physics.units import Quantity"
   ]
  },
  {
   "source": [
    "Ahora le decimos a Sympy que `oz` (onza) es una magnitud natural, es decir: que va a tener un valor numérico acompañado de una dimensión física (dimensión de *masa*):"
   ],
   "cell_type": "markdown",
   "metadata": {}
  },
  {
   "cell_type": "code",
   "execution_count": 2,
   "metadata": {},
   "outputs": [],
   "source": [
    "oz = Quantity(\"onza\")"
   ]
  },
  {
   "source": [
    "Para fijar la dimensión de `oz` (su naturaleza), tenemos que importar la funcionalidad `SI` de Sympy:"
   ],
   "cell_type": "markdown",
   "metadata": {}
  },
  {
   "cell_type": "code",
   "execution_count": 3,
   "metadata": {},
   "outputs": [],
   "source": [
    "from sympy.physics.units.systems import SI"
   ]
  },
  {
   "source": [
    "En el caso concreto de que esta dimensión sea masa, tenemos que importar el objeto `mass` de Sympy:"
   ],
   "cell_type": "markdown",
   "metadata": {}
  },
  {
   "cell_type": "code",
   "execution_count": 4,
   "metadata": {},
   "outputs": [],
   "source": [
    "from sympy.physics.units import mass"
   ]
  },
  {
   "source": [
    "Ahora ya podemos informar a Sympy de que las onzas tendrán dimensión de masa:"
   ],
   "cell_type": "markdown",
   "metadata": {}
  },
  {
   "cell_type": "code",
   "execution_count": 5,
   "metadata": {},
   "outputs": [],
   "source": [
    "SI.set_quantity_dimension(oz, mass)"
   ]
  },
  {
   "source": [
    "Ahora ya podemos *atar* la definición de onza de manera que Pyhton+Sympy ya pueda trabajar con ella cómodamente. Lo que resta es dejarle claro a Sympy qué relación hay entre las onzas (que tienen dimensión de masa) y otra unidad de la misma dimensión (masa) que Sympy ya conozca. Esta unidad ya conocida puede ser, por ejemplo, el kilogramo. Importamos, por tanto, el objeto `kilogram`:"
   ],
   "cell_type": "markdown",
   "metadata": {}
  },
  {
   "cell_type": "code",
   "execution_count": 6,
   "metadata": {},
   "outputs": [],
   "source": [
    "from sympy.physics.units import mass"
   ]
  },
  {
   "source": [
    "Y fijamos la relación entre onzas y kilogramos: \n",
    "$$\n",
    "1\\, \\mathrm{oz} = \\frac{7}{250}\\, \\mathrm{kg}\n",
    "$$\n",
    "\n",
    "En Python:"
   ],
   "cell_type": "markdown",
   "metadata": {}
  },
  {
   "cell_type": "code",
   "execution_count": 8,
   "metadata": {},
   "outputs": [],
   "source": [
    "from sympy.physics.units import kilogram\n",
    "SI.set_quantity_scale_factor(oz, 0.0283495 * kilogram)"
   ]
  },
  {
   "source": [
    "Una vez que ya hemos definido la cantidad onza, ya podemos asignar las masas basadas en esta unidad:"
   ],
   "cell_type": "markdown",
   "metadata": {}
  },
  {
   "cell_type": "code",
   "execution_count": 9,
   "metadata": {},
   "outputs": [],
   "source": [
    "m_bloque = 53*oz\n",
    "m_bala = 7*oz"
   ]
  },
  {
   "source": [
    "Y la masa del conjunto será \n",
    "$$\n",
    "m_\\mathrm{conjunto} = m_{\\mathrm{bala}}+m_{\\mathrm{bloque}}\n",
    "$$\n",
    "En Python:"
   ],
   "cell_type": "markdown",
   "metadata": {}
  },
  {
   "cell_type": "code",
   "execution_count": 10,
   "metadata": {},
   "outputs": [],
   "source": [
    "masa_conjunto = m_bloque + m_bala"
   ]
  },
  {
   "source": [
    "Ahora ya podemos expresar la conservación del momento sin preocuparnos de las unidades. Nuestras incógnitas son $v_{\\mathrm{bala}}$ y $v_{\\mathrm{conjunto}}$. Antes de definirlas en Python, tenemos que cargar la funcionalidad `symbols`:"
   ],
   "cell_type": "markdown",
   "metadata": {}
  },
  {
   "cell_type": "code",
   "execution_count": 11,
   "metadata": {},
   "outputs": [],
   "source": [
    "from sympy import symbols"
   ]
  },
  {
   "source": [
    "Ahora ya podemos indicar que se trata de incógnitas de nuestro problema:"
   ],
   "cell_type": "markdown",
   "metadata": {}
  },
  {
   "cell_type": "code",
   "execution_count": 12,
   "metadata": {},
   "outputs": [],
   "source": [
    "v_bala = symbols(\"v_bala\")\n",
    "v_conjunto = symbols(\"v_conjunto\")"
   ]
  },
  {
   "source": [
    "Y ya es posible plantear la ecuación de conservación del momento, pero para ello, cargamos primero la funcionalidad `Eq` de Sympy para plantear ecuaciones:"
   ],
   "cell_type": "markdown",
   "metadata": {}
  },
  {
   "cell_type": "code",
   "execution_count": 13,
   "metadata": {},
   "outputs": [],
   "source": [
    "from sympy import Eq"
   ]
  },
  {
   "source": [
    "Ecuación de conservación del momento en Python:"
   ],
   "cell_type": "markdown",
   "metadata": {}
  },
  {
   "cell_type": "code",
   "execution_count": 14,
   "metadata": {},
   "outputs": [],
   "source": [
    "conservacion_momento = Eq(m_bala * v_bala, (m_bloque + m_bala) * v_conjunto)"
   ]
  },
  {
   "source": [
    "Ahora aplicamos la conservación de la energía entre $t_2$ y $t3$. Sólo tenemos que tener en cuenta que en $t_3$, $\\text{velocidad conjunto en }t_3 = 0$ (pues el cuerpo se para momentáneamente). Si fijamos nuestro sistema de coordenadas en el centro de masas de $m_{\\text{bloque}}$ al inicio (justo cuando es impactado por la bala), la energía en $t_2$ es exclusivamente cinética (no tendrá contribución potencial). Por el contrario, en $t_3$, la energía del sistema tendrá una contribución exclusivamente potencial (y nada cinética, pues $m$ está instantáneamente en reposo). \n",
    "\n",
    "Matemáticamente:\n",
    "$$\n",
    "\\frac{1}{2}\\cdot (\\text{velocidad conjunto en }t_2)^2\\cdot \\text{masa conjunto} = \\text{masa conjunto} \\cdot \\text{gravedad}\\cdot\\text{altura alcanzada en }t_3 \n",
    "$$"
   ],
   "cell_type": "markdown",
   "metadata": {}
  },
  {
   "source": [
    "Esta última ecuación plantea una nueva incógnita, la altura alcanzada. Definámosla en Python:"
   ],
   "cell_type": "markdown",
   "metadata": {}
  },
  {
   "cell_type": "code",
   "execution_count": 15,
   "metadata": {},
   "outputs": [],
   "source": [
    "altura_alcanzada = symbols(\"altura_alcanzada\")"
   ]
  },
  {
   "source": [
    "También aparece la constante de aceleración de la gravedad en la Tierra. Carguémosla desde Sympy:"
   ],
   "cell_type": "markdown",
   "metadata": {}
  },
  {
   "cell_type": "code",
   "execution_count": 16,
   "metadata": {},
   "outputs": [],
   "source": [
    "from sympy.physics.units import acceleration_due_to_gravity"
   ]
  },
  {
   "source": [
    "Ahora planteemos la ecuación de conservación de la energía en Python:"
   ],
   "cell_type": "markdown",
   "metadata": {}
  },
  {
   "cell_type": "code",
   "execution_count": 17,
   "metadata": {},
   "outputs": [],
   "source": [
    "conservacion_energia = Eq((1/2) * v_conjunto**2 * masa_conjunto, masa_conjunto * acceleration_due_to_gravity * altura_alcanzada)"
   ]
  },
  {
   "source": [
    "La altura alcanzada la podemos despejar gracias al dato del ángulo desviado ($30^{\\circ}$) y aplicando trigonometría básica:\n",
    "$$\n",
    "\\cos 30^{\\circ} = \\frac{\\text{longitud cuerda} -\\text{altura alcanzada}}{\\text{longitud cuerda}}\n",
    "$$"
   ],
   "cell_type": "markdown",
   "metadata": {}
  },
  {
   "source": [
    "La longitud de la cuerda es un dato del problema. Como viene en pies (unidad de longitud), cargamos el la unidad `feet` de Sympy:"
   ],
   "cell_type": "markdown",
   "metadata": {}
  },
  {
   "cell_type": "code",
   "execution_count": 18,
   "metadata": {},
   "outputs": [],
   "source": [
    "from sympy.physics.units import feet"
   ]
  },
  {
   "source": [
    "Y le asignamos el valor que nos dicen:"
   ],
   "cell_type": "markdown",
   "metadata": {}
  },
  {
   "cell_type": "code",
   "execution_count": 19,
   "metadata": {},
   "outputs": [],
   "source": [
    "longitud_cuerda = 1.64 * feet"
   ]
  },
  {
   "source": [
    "Para expresar el ángulo en radianes y calcular el coseno, tenemos que cargar las siguientes funcionalidades: "
   ],
   "cell_type": "markdown",
   "metadata": {}
  },
  {
   "cell_type": "code",
   "execution_count": 20,
   "metadata": {},
   "outputs": [],
   "source": [
    "from sympy import *  \n",
    "from mpmath import *"
   ]
  },
  {
   "source": [
    "Finalmente, la ecuación de la altura será:"
   ],
   "cell_type": "markdown",
   "metadata": {}
  },
  {
   "cell_type": "code",
   "execution_count": 21,
   "metadata": {},
   "outputs": [],
   "source": [
    "ecuacion_altura = Eq(cos(radians(30)), (longitud_cuerda - altura_alcanzada)/altura_alcanzada)"
   ]
  },
  {
   "source": [
    "Ahora ya podemos resolver el sistema formado por las tres ecuaciones (conservación momento, conservación de energía y altura alcanzada):"
   ],
   "cell_type": "markdown",
   "metadata": {}
  },
  {
   "cell_type": "code",
   "execution_count": 22,
   "metadata": {},
   "outputs": [],
   "source": [
    "sistema_ecuaciones = [ecuacion_altura, conservacion_energia, conservacion_momento]"
   ]
  },
  {
   "source": [
    "Las incógnitas que queremos averiguar serían:"
   ],
   "cell_type": "markdown",
   "metadata": {}
  },
  {
   "cell_type": "code",
   "execution_count": 23,
   "metadata": {},
   "outputs": [],
   "source": [
    "incógnitas = [v_bala, altura_alcanzada, v_conjunto]"
   ]
  },
  {
   "source": [
    "Ya sólo queda resolver con `solve` de Sympy. Cargamos primero esta función:"
   ],
   "cell_type": "markdown",
   "metadata": {}
  },
  {
   "cell_type": "code",
   "execution_count": 24,
   "metadata": {},
   "outputs": [],
   "source": [
    "from sympy import solve"
   ]
  },
  {
   "source": [
    "Y resolvemos el sistema de ecuaciones. Las soluciones al mismo, las guardamos en la variable `soluciones`:"
   ],
   "cell_type": "markdown",
   "metadata": {}
  },
  {
   "cell_type": "code",
   "execution_count": 25,
   "metadata": {},
   "outputs": [],
   "source": [
    "soluciones = solve(sistema_ecuaciones, incógnitas)"
   ]
  },
  {
   "source": [
    "Esta variable contiene las soluciones para las incógnitas que hemos indicado antes:"
   ],
   "cell_type": "markdown",
   "metadata": {}
  },
  {
   "cell_type": "code",
   "execution_count": 27,
   "metadata": {},
   "outputs": [
    {
     "output_type": "execute_result",
     "data": {
      "text/plain": [
       "[(-11.3640034340926*sqrt(acceleration_due_to_gravity)*sqrt(foot),\n",
       "  0.878873351174082*foot,\n",
       "  -1.32580040064414*sqrt(acceleration_due_to_gravity)*sqrt(foot)),\n",
       " (11.3640034340926*sqrt(acceleration_due_to_gravity)*sqrt(foot),\n",
       "  0.878873351174082*foot,\n",
       "  1.32580040064414*sqrt(acceleration_due_to_gravity)*sqrt(foot))]"
      ]
     },
     "metadata": {},
     "execution_count": 27
    }
   ],
   "source": [
    "soluciones"
   ]
  },
  {
   "source": [
    "Si te fijas bien, este vector contiene dos elementos. Los dos son en realidad el mismo, pero con componentes con signos opuestos. Como estamos trabajando con valores absolutos, nos quedamos con cualquiera de ellos (por ejemplo, el segundo, que tienen signo +) y lo guardamos en la variable `soluciones_positivas`:"
   ],
   "cell_type": "markdown",
   "metadata": {}
  },
  {
   "cell_type": "code",
   "execution_count": 28,
   "metadata": {},
   "outputs": [],
   "source": [
    "soluciones_positivas = soluciones[1]"
   ]
  },
  {
   "source": [
    "La velocidad a la que iba la bala es, según hemos definido en el vector `incógnitas`, el primero de los elementos (el 0):"
   ],
   "cell_type": "markdown",
   "metadata": {}
  },
  {
   "source": [
    "v_bala_resuelta = soluciones_positivas[0]\n",
    "v_bala_resuelta"
   ],
   "cell_type": "code",
   "metadata": {},
   "execution_count": 29,
   "outputs": [
    {
     "output_type": "execute_result",
     "data": {
      "text/plain": [
       "11.3640034340926*sqrt(acceleration_due_to_gravity)*sqrt(foot)"
      ],
      "text/latex": "$\\displaystyle 11.3640034340926 \\sqrt{\\text{g}} \\sqrt{\\text{ft}}$"
     },
     "metadata": {},
     "execution_count": 29
    }
   ]
  },
  {
   "source": [
    "Aunque no te lo parezca, las unidades del resultado anterior tienen dimensiones de velocidad:\n",
    "$$\n",
    "\\mathrm{\\sqrt{g\\cdot ft}}\\qquad \\text{tiene dimensiones de}\\qquad \\mathrm{\\sqrt{\\frac{Longitud}{Tiempo^2}\\cdot Longitud} = Velocidad}\n",
    "$$\n",
    "\n",
    "En Pythom/Sympy, si queremos expresar $v_\\mathrm{bala}$ en una unidad de velocidad más *normal* (m/s, por ejemplo), primero tenemos que cargar la función `convert_to` y estas unidades en concreto (metros y segundos):"
   ],
   "cell_type": "markdown",
   "metadata": {}
  },
  {
   "cell_type": "code",
   "execution_count": 30,
   "metadata": {},
   "outputs": [],
   "source": [
    "from sympy.physics.units import convert_to\n",
    "from sympy.physics.units import meter, second"
   ]
  },
  {
   "source": [
    "Y el resultado final para esta velocidad sería:"
   ],
   "cell_type": "markdown",
   "metadata": {}
  },
  {
   "cell_type": "code",
   "execution_count": 31,
   "metadata": {},
   "outputs": [
    {
     "output_type": "execute_result",
     "data": {
      "text/plain": [
       "19.6*meter/second"
      ],
      "text/latex": "$\\displaystyle \\frac{19.6 \\text{m}}{\\text{s}}$"
     },
     "metadata": {},
     "execution_count": 31
    }
   ],
   "source": [
    "convert_to(v_bala_resuelta, [meter, second]).n(3)"
   ]
  }
 ]
}