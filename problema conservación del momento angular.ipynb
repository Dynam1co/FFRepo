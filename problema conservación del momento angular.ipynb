{
 "nbformat": 4,
 "nbformat_minor": 2,
 "metadata": {
  "language_info": {
   "name": "python",
   "codemirror_mode": {
    "name": "ipython",
    "version": 3
   },
   "version": "3.7.6-final"
  },
  "orig_nbformat": 2,
  "file_extension": ".py",
  "mimetype": "text/x-python",
  "name": "python",
  "npconvert_exporter": "python",
  "pygments_lexer": "ipython3",
  "version": 3,
  "kernelspec": {
   "name": "python37664bitbasevirtualenv6624613c61f54fcdbf978c850e3adb87",
   "display_name": "Python 3.7.6 64-bit ('base': virtualenv)"
  }
 },
 "cells": [
  {
   "cell_type": "code",
   "execution_count": 4,
   "metadata": {},
   "outputs": [],
   "source": [
    "import warnings\n",
    "warnings.filterwarnings('ignore')"
   ]
  },
  {
   "cell_type": "markdown",
   "execution_count": null,
   "metadata": {},
   "outputs": [],
   "source": [
    "# Conservación del momento angular en dos disco acoplados"
   ]
  },
  {
   "cell_type": "markdown",
   "execution_count": null,
   "metadata": {},
   "outputs": [],
   "source": [
    "Tenemos un disco que gira sin fricción co una velocidad angular $\\omega_o = 600$ vueltas por minuto en torno a su centro. Este giro se produce sin fricción alguna. Un segundo disco, en reposo y más grande, posee un momento de inercia 3 veces más grande ($3\\cdot I_0$) que el del disco que sí está girando ($I_0$). Ambos discos están inicialmente sin contacto. En un momento dado, sus superficies se conectan (por ejemplo porque el que está estático cae sobre el sí gira). El sistema quizás recuerde al embrague de un motor. \n",
    "**Se pide**: ¿Cuál es la velocidad angular del conjunto?"
   ]
  },
  {
   "cell_type": "markdown",
   "execution_count": null,
   "metadata": {},
   "outputs": [],
   "source": [
    "## Solución\n",
    "Este problema es una actualización en formato Jupyter del problema descrito [aquí](https://cnx.org/contents/JmOmbgy5@3/Conservation-of-Angular-Momentum). \n",
    "### Dibujo del problema\n",
    "![](https://tva1.sinaimg.cn/large/006tNbRwgy1gaw9kwsogeg30r50b4wgk.gif)"
   ]
  },
  {
   "cell_type": "markdown",
   "execution_count": null,
   "metadata": {},
   "outputs": [],
   "source": [
    "Aplicando la conservación de momento angular, tenemos:\n",
    "$$\n",
    "I_0\\omega_0 = (I_0+3I_0)\\cdot\\omega\n",
    "$$\n",
    "Vamos a resolverlo con Sympy. Importemos las bibliotecas necesarias:"
   ]
  },
  {
   "cell_type": "code",
   "execution_count": 1,
   "metadata": {},
   "outputs": [],
   "source": [
    "import sympy.physics.units as u\n",
    "from sympy.physics.units import Dimension \n",
    "from sympy import * \n",
    "from sympy.physics.units import convert_to"
   ]
  },
  {
   "cell_type": "markdown",
   "execution_count": null,
   "metadata": {},
   "outputs": [],
   "source": [
    "### Datos del problema\n",
    "Sabemos que tenemos dos momentos de inercia ($I_0$ y $3\\cdot I_0$) que no conocemos, la velocidad angular de $I_0$ ($\\omega_0$) y nos piden la velocidad angular ($\\omega$) del conjunto $I_0+3I_0$. Teniendo en cuenta que las dimensiones del momento de inercia son $\\mathrm{Masa\\cdot Longitud^2}$:"
   ]
  },
  {
   "cell_type": "code",
   "execution_count": 8,
   "metadata": {},
   "outputs": [],
   "source": [
    "w0 = 600/u.minute\n",
    "i0 = u.Quantity('I')\n",
    "i0.set_dimension(u.mass*u.length**2)\n",
    "w = u.Quantity('ω')\n",
    "w.set_dimension(1/u.time)"
   ]
  },
  {
   "cell_type": "markdown",
   "execution_count": null,
   "metadata": {},
   "outputs": [],
   "source": [
    "### Ecuación a resolver\n",
    "Ahora ya podemos plantear la ecuación de conservación del momento angular:"
   ]
  },
  {
   "cell_type": "code",
   "execution_count": 18,
   "metadata": {},
   "outputs": [
    {
     "name": "stdout",
     "output_type": "stream",
     "text": "150  \n──────\nminute\n"
    }
   ],
   "source": [
    "eq_cma = Eq(i0*w0, (i0+3*i0)*w)\n",
    "pprint(solve(eq_cma, w)[0])"
   ]
  },
  {
   "cell_type": "markdown",
   "execution_count": null,
   "metadata": {},
   "outputs": [],
   "source": [
    "### Resultado\n",
    "El sistema $I_0+3I_0$ gira a 150 vueltas por minuto. "
   ]
  }
 ]
}