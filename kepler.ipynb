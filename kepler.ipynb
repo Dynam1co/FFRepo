{
 "metadata": {
  "language_info": {
   "codemirror_mode": {
    "name": "ipython",
    "version": 3
   },
   "file_extension": ".py",
   "mimetype": "text/x-python",
   "name": "python",
   "nbconvert_exporter": "python",
   "pygments_lexer": "ipython3",
   "version": "3.7.8-final"
  },
  "orig_nbformat": 2,
  "kernelspec": {
   "name": "Python 3.7.8 64-bit ('base': conda)",
   "display_name": "Python 3.7.8 64-bit ('base': conda)",
   "metadata": {
    "interpreter": {
     "hash": "f85c0ae1067a86ad6a96b144378883e79fd1516474b579ba33ee3a7084540002"
    }
   }
  }
 },
 "nbformat": 4,
 "nbformat_minor": 2,
 "cells": [
  {
   "source": [
    "# Cálculo del periodo de Venus en torno al Sol\n",
    "Este ejercicio está basado en el este ejemplo de Sympy. "
   ],
   "cell_type": "markdown",
   "metadata": {}
  },
  {
   "source": [
    "![](https://files.askiitians.com/cdn1/images/20141016-15471399-8942-planet.gif)"
   ],
   "cell_type": "markdown",
   "metadata": {}
  },
  {
   "source": [
    "Cargamos los componentes necesarios:"
   ],
   "cell_type": "markdown",
   "metadata": {}
  },
  {
   "cell_type": "code",
   "execution_count": 2,
   "metadata": {},
   "outputs": [],
   "source": [
    "from sympy import solve, symbols, pi, Eq  # Cargamos objetos directos de Sympy\n",
    "# Unidades S.I.\n",
    "from sympy.physics.units import meter, kilogram, second, kelvin, newton, day\n",
    "# Cargamos la función convert_to para pasar de unas unidades a otras\n",
    "from sympy.physics.units import convert_to\n",
    "# Cargamos constantes\n",
    "# La constante de gravitación universal https://www.google.com/search?q=gravitational+constant\n",
    "from sympy.physics.units import gravitational_constant as G\n",
    "from sympy.physics.units import speed_of_light as c"
   ]
  },
  {
   "source": [
    "Dejamos claro cuál es la incógnita (el periodo $T$):"
   ],
   "cell_type": "markdown",
   "metadata": {}
  },
  {
   "cell_type": "code",
   "execution_count": 3,
   "metadata": {},
   "outputs": [],
   "source": [
    "T = symbols(\"T\")"
   ]
  },
  {
   "source": [
    "Datos conocidos: la masa del Sol ($M_\\odot$) y el semieje mayor de Venus ($a$). "
   ],
   "cell_type": "markdown",
   "metadata": {}
  },
  {
   "cell_type": "code",
   "execution_count": 4,
   "metadata": {},
   "outputs": [],
   "source": [
    "a = 108208000e3*meter \n",
    "M0 = 1.9891e30*kilogram"
   ]
  },
  {
   "source": [
    "Usamos la ecuación de Keper que relaciona los elementos anteriores:\n",
    "\n",
    "$$\n",
    "\\frac{T^2}{a^3} = \\frac{4\\ \\pi}{G\\ M_\\odot}\n",
    "$$\n",
    "\n",
    "Y ahora la redactamos en Sympy:"
   ],
   "cell_type": "markdown",
   "metadata": {}
  },
  {
   "cell_type": "code",
   "execution_count": 7,
   "metadata": {},
   "outputs": [],
   "source": [
    "eq_kepler = Eq(T**2 / a**3, 4*pi**2 / G / M0) "
   ]
  },
  {
   "source": [
    "Resolvemos la ecuación:"
   ],
   "cell_type": "markdown",
   "metadata": {}
  },
  {
   "cell_type": "code",
   "execution_count": 8,
   "metadata": {},
   "outputs": [
    {
     "output_type": "execute_result",
     "data": {
      "text/plain": [
       "2.2e+2*day"
      ],
      "text/latex": "$\\displaystyle 2.2 \\cdot 10^{2} \\text{day}$"
     },
     "metadata": {},
     "execution_count": 8
    }
   ],
   "source": [
    "solution = solve(eq_kepler, T)[1]\n",
    "convert_to(solution, [day]).n(2)"
   ]
  }
 ]
}