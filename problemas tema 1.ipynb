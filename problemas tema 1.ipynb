{
 "metadata": {
  "language_info": {
   "codemirror_mode": {
    "name": "ipython",
    "version": 3
   },
   "file_extension": ".py",
   "mimetype": "text/x-python",
   "name": "python",
   "nbconvert_exporter": "python",
   "pygments_lexer": "ipython3",
   "version": "3.7.8-final"
  },
  "orig_nbformat": 2,
  "kernelspec": {
   "name": "python3",
   "display_name": "Python 3"
  }
 },
 "nbformat": 4,
 "nbformat_minor": 2,
 "cells": [
  {
   "source": [
    "# Inicialización"
   ],
   "cell_type": "markdown",
   "metadata": {}
  },
  {
   "source": [
    "## Carga de librerías, objetos y variables"
   ],
   "cell_type": "markdown",
   "metadata": {}
  },
  {
   "cell_type": "code",
   "execution_count": 1,
   "metadata": {},
   "outputs": [],
   "source": [
    "import sys\n",
    "from sympy import solve, symbols, pi, Eq\n",
    "from sympy.physics.units.systems import SI\n",
    "from sympy.physics.units import Quantity, length, mass\n",
    "from sympy.physics.units import gravitational_constant as G\n",
    "from sympy.physics.units import meter, kilogram, second, ampere, kelvin, newton, day\n",
    "from sympy.physics.units import convert_to"
   ]
  },
  {
   "source": [
    "# Problemas a resolver"
   ],
   "cell_type": "markdown",
   "metadata": {}
  },
  {
   "source": [
    "## Problema 1\n",
    "¿Cuál es la carga electrostática de un electrón sabiendo que 1 C es equivalente a $6.3\\times 10^{18}$ electrones?"
   ],
   "cell_type": "markdown",
   "metadata": {}
  },
  {
   "source": [
    "Este problema se puede resolver mediante una regla de 3 lógica:\n",
    "$$\n",
    "\\begin{eqnarray}\n",
    "1\\cdot \\mathrm{C} & \\longleftrightarrow & 6.3\\times 10^{18}\\cdot \\mathrm{electrón} \\\\\n",
    "\\text{cantidad de carga}\\cdot \\mathrm{C}  & \\longleftrightarrow & 1\\cdot \\mathrm{electrón} \\\\\n",
    "\\end{eqnarray}\n",
    "$$\n",
    "\n",
    "La expresión anterior es equivalente a la **ecuación**:\n",
    "$$\\label{eq:reg3}\n",
    "\\frac{1\\cdot \\mathrm{C}}{6.3\\times 10^{18}\\cdot \\mathrm{electrón}} = \\frac{\\text{cantidad de carga}\\cdot \\mathrm{C}}{1\\cdot \\mathrm{electrón}} \n",
    "$$\n",
    "\n",
    "La incógnita a extraer es $\\text{cantidad de carga}$ , con naturaleza de Coulombios ($\\mathrm{C}$)."
   ],
   "cell_type": "markdown",
   "metadata": {}
  },
  {
   "source": [
    "Cargamos la unidad Coulombio desde Sympy."
   ],
   "cell_type": "markdown",
   "metadata": {}
  },
  {
   "cell_type": "code",
   "execution_count": 2,
   "metadata": {},
   "outputs": [],
   "source": [
    "from sympy.physics.units import coulombs"
   ]
  },
  {
   "source": [
    "La incógnita del problema es la carga del electrón y la podemos despejar desde la regla de tres anterior:"
   ],
   "cell_type": "markdown",
   "metadata": {}
  },
  {
   "cell_type": "code",
   "execution_count": 35,
   "metadata": {},
   "outputs": [
    {
     "output_type": "execute_result",
     "data": {
      "text/plain": [
       "1.6e-19*coulomb"
      ],
      "text/latex": "$\\displaystyle 1.6 \\cdot 10^{-19} \\text{C}$"
     },
     "metadata": {},
     "execution_count": 35
    }
   ],
   "source": [
    "carga_electrón = symbols(\"e\")\n",
    "regla_tres = Eq(carga_electrón, 1*coulombs/6.3E18)\n",
    "soluciones = solve([regla_tres], [carga_electrón])\n",
    "(list(soluciones.values())[0]).n(2)"
   ]
  },
  {
   "source": [
    "---"
   ],
   "cell_type": "markdown",
   "metadata": {}
  },
  {
   "source": [
    "## Problema 4\n",
    "¿Cuál es la velocidad de la luz en millas por segundo? "
   ],
   "cell_type": "markdown",
   "metadata": {}
  },
  {
   "source": [
    "La velocidad de la luz es $c$ y está disponible como parte de Sympy:"
   ],
   "cell_type": "markdown",
   "metadata": {}
  },
  {
   "cell_type": "code",
   "execution_count": 4,
   "metadata": {},
   "outputs": [],
   "source": [
    "from sympy.physics.units import speed_of_light as c\n",
    "from sympy.physics.units import miles"
   ]
  },
  {
   "source": [
    "Ahora sólo tenemos que pasarla a millas/segundo mediante la función `convert_to`:"
   ],
   "cell_type": "markdown",
   "metadata": {}
  },
  {
   "cell_type": "code",
   "execution_count": 13,
   "metadata": {},
   "outputs": [
    {
     "output_type": "execute_result",
     "data": {
      "text/plain": [
       "1.86e+5*mile/second"
      ],
      "text/latex": "$\\displaystyle \\frac{1.86 \\cdot 10^{5} \\text{mile}}{\\text{s}}$"
     },
     "metadata": {},
     "execution_count": 13
    }
   ],
   "source": [
    "convert_to(c, [miles, second]).n(3)"
   ]
  },
  {
   "source": [
    "---"
   ],
   "cell_type": "markdown",
   "metadata": {}
  },
  {
   "source": [
    "## Problema 5\n",
    "¿Cuál es la resultante de dos fuerzas opuestas de 50 y 30 N, respectivamente, y que ejercen su acción en la misma dirección?"
   ],
   "cell_type": "markdown",
   "metadata": {}
  },
  {
   "source": [
    "Este ejercicio es bastante directo. El dibujo sería el típico parecido al de dos personas ejerciendo un esfuerzo contrapuesto, como el de la siguiente imagen:\n",
    "\n",
    "![](https://qph.fs.quoracdn.net/main-qimg-75fddba4d0d41a5fa77f6a655a6dd4df)\n",
    "\n",
    "Para complicarlo un poco, expresamos esa fuerza en unidades básicas del S.I."
   ],
   "cell_type": "markdown",
   "metadata": {}
  },
  {
   "cell_type": "code",
   "execution_count": 32,
   "metadata": {},
   "outputs": [
    {
     "output_type": "execute_result",
     "data": {
      "text/plain": [
       "20*kilogram*meter/second**2"
      ],
      "text/latex": "$\\displaystyle \\frac{20 \\text{kg} \\text{m}}{\\text{s}^{2}}$"
     },
     "metadata": {},
     "execution_count": 32
    }
   ],
   "source": [
    "solucion = convert_to(50*newton - 30*newton, [kilogram, meter, second])\n",
    "solucion"
   ]
  },
  {
   "source": [
    "---"
   ],
   "cell_type": "markdown",
   "metadata": {}
  },
  {
   "source": [
    "## Problema 6\n",
    "Un cuerpo cuyo peso es $5\\ \\mathrm{N}$ se encuentra en caída libre desde una altura de $3\\times 10^3\\ \\mathrm{cm}$. Justo cuando impacta contra el suelo va a una velocidad de $3.6\\times 10^1\\ \\mathrm{\\frac{km}{hora}}$. ¿Cuál es la fuerza de rozamiento que ha experimentado durante el descenso?"
   ],
   "cell_type": "markdown",
   "metadata": {}
  },
  {
   "source": [
    "Dibujo del problema:\n",
    "\n",
    "![](https://tva1.sinaimg.cn/large/0081Kckwgy1gjyou9g84dg307707f0w5.gif)\n",
    "\n",
    "Se trata del típico problema que combina el cálculo de la fuerza neta o **resultante**:\n",
    "\n",
    "$$\n",
    "F_{\\mathrm{resultante}} = m\\cdot a = \\sum F_i \n",
    "$$\n",
    "\n",
    "y del desplazamiento (en este caso, altura $h$) debido a una aceleración constante de descenso ($a$) en el tiempo ($t$) que dura dicho movimiento:\n",
    "\n",
    "\\begin{equation*}\n",
    "h = \\frac{1}{2}\\cdot a \\cdot t^2\n",
    "\\end{equation*}\n",
    "\n",
    "El **truco** está en darse cuenta que la $a$ en ambas ecuaciones es la misma."
   ],
   "cell_type": "markdown",
   "metadata": {}
  },
  {
   "source": [
    "Importamos algunas unidades definidas por Sympy por comodidad"
   ],
   "cell_type": "markdown",
   "metadata": {}
  },
  {
   "cell_type": "code",
   "execution_count": 6,
   "metadata": {},
   "outputs": [],
   "source": [
    "from sympy.physics.units import newtons, centimeters, hours, kilometers, acceleration_due_to_gravity"
   ]
  },
  {
   "source": [
    "Los datos del problema son:\n",
    " * el peso del objeto que cae ($F_{\\mathrm{Peso}}$)\n",
    " * la altura desde la que cae ($h$)\n",
    " * la velocidad con la que llega al suelo o velocidad de impacto ($V_{\\mathrm{impacto}}$)"
   ],
   "cell_type": "markdown",
   "metadata": {}
  },
  {
   "cell_type": "code",
   "execution_count": 7,
   "metadata": {},
   "outputs": [],
   "source": [
    "peso_objeto = 5*newtons\n",
    "altura = 3E3*centimeters\n",
    "velocidad_impacto = 3.6E1*kilometers/hours"
   ]
  },
  {
   "source": [
    "Incógnitas del problema:\n",
    "* la aceleración con la que cae ($a$)\n",
    "* el tiempo que tarda en caer ($t$)\n",
    "* la masa del objeto ($m$)\n",
    "* la fuerza de rozamiento ($F_{\\mathrm{Rozamiento}}$)"
   ],
   "cell_type": "markdown",
   "metadata": {}
  },
  {
   "cell_type": "code",
   "execution_count": 8,
   "metadata": {},
   "outputs": [],
   "source": [
    "aceleracion_caida = symbols(\"a\")\n",
    "tiempo_caida = symbols(\"t\")\n",
    "masa_objeto = symbols(\"m\")\n",
    "fuerza_rozamiento = symbols(\"r\")"
   ]
  },
  {
   "source": [
    "Además de las ecuaciones anteriores, estas son las otras dos que hay que plantear (la del peso y la de la velocidad en el momento del impacto):\n",
    "\n",
    "$$\n",
    "\\mathrm{F_{\\mathrm{Peso}}} = m\\cdot g\\\\\n",
    "\\mathrm{V_{\\mathrm{Impacto}}} = a \\cdot t\n",
    "$$\n",
    "donde $g$ es la aceleración debida a la gravedad y que el Sympy tenemos disponible en la variable `acceleration_due_to_gravity`. \n",
    "\n",
    "Los valores de $t$ y $a$ es el mismo que el de la equación del desplazamiento, indicada anteriormente. \n",
    "\n",
    "Por último, la ecuación de equilibrio de fuerzas es:\n",
    "\n",
    "$$\n",
    "m\\cdot a = F_{\\mathrm{Peso}} - F_{\\mathrm{Rozamiento}}\n",
    "$$\n",
    "\n",
    "Es decir, la fuerza resultante ($m\\ a$) deber ser igual a la fuerza relativa al peso menos la fuerza de rozamiento. Esta última fuerza es la que ejerce el aire, por ejemplo, al rozar sobre un objeto y dotándole de cierta *flotabilidad*."
   ],
   "cell_type": "markdown",
   "metadata": {}
  },
  {
   "source": [
    "Planteamos las mismas ecuaciones en Sympy:"
   ],
   "cell_type": "markdown",
   "metadata": {}
  },
  {
   "cell_type": "code",
   "execution_count": 9,
   "metadata": {},
   "outputs": [],
   "source": [
    "eq_espacio = Eq(altura, 0.5*aceleracion_caida*tiempo_caida**2)\n",
    "eq_peso = Eq(peso_objeto, masa_objeto*acceleration_due_to_gravity)\n",
    "eq_caida_libre = Eq(velocidad_impacto, aceleracion_caida*tiempo_caida)\n",
    "eq_fuerzas = Eq(peso_objeto - fuerza_rozamiento, masa_objeto*aceleracion_caida)"
   ]
  },
  {
   "source": [
    "Resolvemos el sistema de ecuaciones:"
   ],
   "cell_type": "markdown",
   "metadata": {}
  },
  {
   "cell_type": "code",
   "execution_count": 10,
   "metadata": {},
   "outputs": [],
   "source": [
    "resultados = solve([eq_espacio, eq_peso, eq_caida_libre, eq_fuerzas], [aceleracion_caida, tiempo_caida, masa_objeto, fuerza_rozamiento])"
   ]
  },
  {
   "source": [
    "El resultado es un vector con todas las soluciones que le hemos pedido ($a$, $t$, $m$ y $F_{\\mathrm{Rozamiento}}$). La fuerza de rozamiento es, por tanto la 3a componente:"
   ],
   "cell_type": "markdown",
   "metadata": {}
  },
  {
   "cell_type": "code",
   "execution_count": 11,
   "metadata": {},
   "outputs": [
    {
     "output_type": "execute_result",
     "data": {
      "text/plain": [
       "0.04*newton*(125.0*acceleration_due_to_gravity*centimeter*hour**2 - 27.0*kilometer**2)/(acceleration_due_to_gravity*centimeter*hour**2)"
      ],
      "text/latex": "$\\displaystyle \\frac{0.04 \\left(125.0 \\text{g} \\text{cm} \\text{hour}^{2} - 27.0 \\text{km}^{2}\\right) \\text{N}}{\\text{g} \\text{cm} \\text{hour}^{2}}$"
     },
     "metadata": {},
     "execution_count": 11
    }
   ],
   "source": [
    "rozamiento = resultados[0][3]\n",
    "rozamiento"
   ]
  },
  {
   "source": [
    "El resultado anterior no tiene ninguna pinta de tener dimensiones de fuerza, pero si le pedimos a Sympy que lo re-exprese en unidades de Newton, entonces vemos que cuadra perfectamente:"
   ],
   "cell_type": "markdown",
   "metadata": {}
  },
  {
   "cell_type": "code",
   "execution_count": 12,
   "metadata": {},
   "outputs": [
    {
     "output_type": "execute_result",
     "data": {
      "text/plain": [
       "4.15*newton"
      ],
      "text/latex": "$\\displaystyle 4.15 \\text{N}$"
     },
     "metadata": {},
     "execution_count": 12
    }
   ],
   "source": [
    "convert_to(rozamiento, newtons).n(3)"
   ]
  },
  {
   "source": [
    "**Ejercicio**: comprueba esto que acaba de hacer Sympy por ti de manera manual, es decir: traduce todas las unidades al mismo *espacio* y asegúrate de que al operarlas, su dimensión es de fuerza (que en el caso del S.I. es el Newton ó $\\mathrm{kg\\ m\\ s^{-2}}$). "
   ],
   "cell_type": "markdown",
   "metadata": {}
  }
 ]
}